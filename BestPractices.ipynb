{
  "nbformat": 4,
  "nbformat_minor": 0,
  "metadata": {
    "colab": {
      "name": "BestPractices.ipynb",
      "provenance": [],
      "collapsed_sections": [],
      "authorship_tag": "ABX9TyP1/qCl5Acc+TMgPnffjHl5",
      "include_colab_link": true
    },
    "kernelspec": {
      "name": "python3",
      "display_name": "Python 3"
    }
  },
  "cells": [
    {
      "cell_type": "markdown",
      "metadata": {
        "id": "view-in-github",
        "colab_type": "text"
      },
      "source": [
        "<a href=\"https://colab.research.google.com/github/cw00dw0rd/ArangoNotebooks/blob/master/BestPractices.ipynb\" target=\"_parent\"><img src=\"https://colab.research.google.com/assets/colab-badge.svg\" alt=\"Open In Colab\"/></a>"
      ]
    },
    {
      "cell_type": "code",
      "metadata": {
        "id": "3iomUF6Oz3VW",
        "colab_type": "code",
        "colab": {}
      },
      "source": [
        "%%capture\n",
        "!git clone -b oasisConnector --single-branch https://github.com/cw00dw0rd/ArangoNotebooks.git\n",
        "!rsync -av ArangoNotebooks/ ./ --exclude=.git\n",
        "!pip3 install pyarango\n",
        "!pip3 install \"python-arango>=5.0\"\n",
        "!pip3 install graphviz"
      ],
      "execution_count": 0,
      "outputs": []
    },
    {
      "cell_type": "code",
      "metadata": {
        "id": "OmiaV2Vuz73y",
        "colab_type": "code",
        "colab": {}
      },
      "source": [
        "import json\n",
        "import requests\n",
        "import sys\n",
        "import oasis\n",
        "import time\n",
        "\n",
        "from pyArango.connection import *\n",
        "from arango import ArangoClient"
      ],
      "execution_count": 0,
      "outputs": []
    },
    {
      "cell_type": "code",
      "metadata": {
        "id": "VOm0Yp4-z-tm",
        "colab_type": "code",
        "colab": {}
      },
      "source": [
        "# Retrieve tmp credentials from ArangoDB Tutorial Service\n",
        "login = oasis.getTempCredentials(tutorialName=\"BestPracticesTutorial\", tempURL='https://tutorials.arangodb.cloud:8529/_db/_system/tutorialDB/tutorialDB')\n",
        "\n",
        "# Connect to the temp database\n",
        "# Please note that we use the python-arango driver as it has better support for ArangoSearch \n",
        "database = oasis.connect_python_arango(login)"
      ],
      "execution_count": 0,
      "outputs": []
    },
    {
      "cell_type": "code",
      "metadata": {
        "id": "4FO22r6G0LDU",
        "colab_type": "code",
        "colab": {}
      },
      "source": [
        "print(\"https://\"+login[\"hostname\"]+\":\"+str(login[\"port\"]))\n",
        "print(\"Username: \" + login[\"username\"])\n",
        "print(\"Password: \" + login[\"password\"])\n",
        "print(\"Database: \" + login[\"dbName\"])"
      ],
      "execution_count": 0,
      "outputs": []
    },
    {
      "cell_type": "markdown",
      "metadata": {
        "id": "JJJOWS_6eVWa",
        "colab_type": "text"
      },
      "source": [
        "# IMDB Dataset\n",
        "\n",
        "This notebook uses the IMDB dataset. It is loaded with detailed documents for actors, directors, and movies. The edges link the movies to the actors and movie genres.\n",
        "\n",
        "You can access the ArangoDB WebUI and ArangoDB Graph Viewer to explore the data further at any time. Just click the link generated above, sign in with your temporary credentials, and you have access to a temporary but fully functional ArangoDB database.\n",
        "![alt text](https://www.arangodb.com/wp-content/uploads/2020/01/image9.png)"
      ]
    },
    {
      "cell_type": "code",
      "metadata": {
        "id": "uxthjnhrV3mW",
        "colab_type": "code",
        "colab": {}
      },
      "source": [
        "!chmod 755 ./tools/arangorestore\n",
        "!./tools/arangorestore -c none --server.endpoint http+ssl://{login[\"hostname\"]}:{login[\"port\"]} --server.username {login[\"username\"]} --server.database {login[\"dbName\"]} --server.password {login[\"password\"]} --default-replication-factor 3  --input-directory \"./data\" "
      ],
      "execution_count": 0,
      "outputs": []
    },
    {
      "cell_type": "code",
      "metadata": {
        "id": "s1aUksY-QhLh",
        "colab_type": "code",
        "colab": {}
      },
      "source": [
        "# Setup the IMDB Graph\n",
        "\n",
        "if database.has_graph('IMDB'):\n",
        "    IMDB = database.graph('IMDB')\n",
        "else:\n",
        "    IMDB = database.create_graph('IMDB')\n",
        "\n",
        "if not IMDB.has_edge_definition('imdb_edges'):\n",
        "  IMDB.create_edge_definition(\n",
        "      edge_collection='imdb_edges',\n",
        "      from_vertex_collections=['imdb_vertices'],\n",
        "      to_vertex_collections=['imdb_vertices']\n",
        "     )\n",
        "else:\n",
        "  IMDB.replace_edge_definition(\n",
        "      edge_collection='imdb_edges',\n",
        "      from_vertex_collections=['imdb_vertices'],\n",
        "      to_vertex_collections=['imdb_vertices']\n",
        "     )"
      ],
      "execution_count": 0,
      "outputs": []
    },
    {
      "cell_type": "code",
      "metadata": {
        "id": "lJNXj0LLoZWR",
        "colab_type": "code",
        "colab": {}
      },
      "source": [
        "# We setup this up to display our graph results in the notebook.\n",
        "\n",
        "from graphviz import Digraph\n",
        "from IPython.display import Image\n",
        "\n",
        "def visualize(result, size='10'):\n",
        "  graph_name = 'imdb'\n",
        "\n",
        "  g = Digraph(graph_name, filename=graph_name, format='jpeg', engine='neato')\n",
        "  g.attr(overlap='false', size=size)\n",
        "  g.attr('node', shape='circle', fixedsize='false', margin='0', color='blue',style='filled', fillcolor='#dbe2e2', fontname='arial')\n",
        "  g.attr('edge', shape='arrow', color='gray')\n",
        "\n",
        "  for item in result:\n",
        "    for vertex in item['vertices']:\n",
        "        g.node(vertex['_id'], label=vertex['label'])\n",
        "    for edge in item['edges']:\n",
        "        g.edge(edge['_from'], edge['_to'])\n",
        "  return g\n"
      ],
      "execution_count": 0,
      "outputs": []
    },
    {
      "cell_type": "markdown",
      "metadata": {
        "id": "ZLkCoDr0nTTP",
        "colab_type": "text"
      },
      "source": [
        "# Let's Get Started\n",
        "\n",
        "---\n",
        "\n",
        "\n",
        "This first example is a simple lookup of the movies that Will Smith has acted in. Take note that in this query we are taking advantage of many of our guidelines:\n",
        "\n",
        "\n",
        "*   Capitlized keywords\n",
        "*   Lowercase variables\n",
        "*   Double space following a `FOR` statement\n",
        "*   Multi-line comment style\n",
        "*   Verbose variables\n",
        "\n",
        "Continue reading to take a look at some important performance considerations taken with this query.\n"
      ]
    },
    {
      "cell_type": "code",
      "metadata": {
        "id": "ptb7Tv7fMi0D",
        "colab_type": "code",
        "colab": {}
      },
      "source": [
        "aql = database.aql\n",
        "\n",
        "actorName = 'Will Smith'\n",
        "\n",
        "# Execute the query\n",
        "cursor = aql.execute(\n",
        "  \"\"\"\n",
        "  WITH imdb_vertices\n",
        "  FOR actor IN imdb_vertices \n",
        "    FILTER actor.name == @name\n",
        "    FOR vertex, edge , path \n",
        "      IN 1..1 \n",
        "      OUTBOUND actor /* The actor found from the first FOR loop */\n",
        "      GRAPH 'IMDB'\n",
        "      FILTER path.vertices[1].type == 'Movie' \n",
        "      RETURN path\n",
        "  \"\"\",\n",
        "  bind_vars={'name': actorName}\n",
        ")\n",
        "\n",
        "# Iterate through the result cursor\n",
        "result = [doc for doc in cursor]\n",
        "\n",
        "visualize(result)"
      ],
      "execution_count": 0,
      "outputs": []
    },
    {
      "cell_type": "markdown",
      "metadata": {
        "id": "ImM5NqkD6Oda",
        "colab_type": "text"
      },
      "source": [
        "\n",
        "# Indexes with Graph Traversals\n",
        "\n",
        "The decision to `FILTER` on the path in this example, is an important consideration. In graph traversals, simply filtering on the vertex or edge variable does not utlize indexes.\n",
        "<br />\n",
        "<br />\n",
        "The query goes from a vertex to an edge, then the edge indicates what the next connected vertex will be. The traversal continues in this way only finding out what the next vertex will be, once it reaches the next edge document. This is a natural process for a graph traversal, but it also means simply looking up all of the necessary documents from the index isn't possible, as it is not known what those documents will be until then. \n",
        "<br />\n",
        "<br />\n",
        "Instead of filtering on every document that comes along, you can instead wait until you have a full path, from your start vertex to your destination, and match your criteria against the path. This can significantly improve performance, since this process can utilize indexes. \n",
        "<br />\n",
        "<br />\n",
        "The following code block shows the AQL optomizer rule comparisons for the previous lookup, one query does the `FILTER` on the path and the other does the `FILTER` on the vertex.\n",
        "\n",
        "\n",
        "\n"
      ]
    },
    {
      "cell_type": "code",
      "metadata": {
        "id": "dVLXflbA8Q4G",
        "colab_type": "code",
        "colab": {}
      },
      "source": [
        "import itertools\n",
        "\n",
        "fast_profile = aql.explain(\n",
        "  \"\"\"\n",
        "  WITH imdb_vertices\n",
        "  FOR actor IN imdb_vertices \n",
        "    FILTER actor.name == 'Will Smith'\n",
        "    FOR vertex, edge, path \n",
        "      IN 1..1 \n",
        "      OUTBOUND actor /* The actor found from the first FOR loop */\n",
        "      GRAPH 'IMDB'\n",
        "      FILTER path.vertices[1].type == 'Movie' \n",
        "      RETURN path\n",
        "  \"\"\"\n",
        ")\n",
        "\n",
        "slow_profile = aql.explain(\n",
        "  \"\"\"\n",
        "  WITH imdb_vertices\n",
        "  FOR actor IN imdb_vertices \n",
        "    FILTER actor.name == 'Will Smith'\n",
        "    FOR vertex, edge, path \n",
        "      IN 1..1 \n",
        "      OUTBOUND actor /* The actor found from the first FOR loop */\n",
        "      GRAPH 'IMDB'\n",
        "      FILTER vertex.type == 'Movie' \n",
        "      RETURN path\n",
        "  \"\"\"\n",
        ")\n",
        "\n",
        "print(\"Filter on Path \".ljust(50, ' '), \"Filter on Vertices\")\n",
        "print(\"--------------------------------------------------------------------------------\")\n",
        "\n",
        "for rule in itertools.zip_longest(fast_profile['rules'], slow_profile['rules']):\n",
        "  if rule[0] is not None:\n",
        "    p1 = (rule[0].ljust(40, ' '))\n",
        "  else: \n",
        "    p1 = None\n",
        "  if rule[1] is not None:\n",
        "    p2 = (rule[1].ljust(40, ' '))\n",
        "  else:\n",
        "    p2 = None\n",
        "  \n",
        "  print(p1,\"|\".ljust(10, ' '), p2)\n"
      ],
      "execution_count": 0,
      "outputs": []
    },
    {
      "cell_type": "markdown",
      "metadata": {
        "id": "2uIRybfC7qOg",
        "colab_type": "text"
      },
      "source": [
        "  Looking at the optimizer rules applied for each traversal shows us\n",
        "  two important rules that can be applied.\n",
        "\n",
        "  In the example that filters on the path, the optimizer is able to:\n",
        "  - `remove-filter-covered-by-traversal`\n",
        "  - `remove-unnecessary-calculations-2` \n",
        "\n",
        "  These rules indicate that because we are filtering on the path, our `FILTER`\n",
        "  was indeed covered by our traversal. This also results in no longer needing to\n",
        "  perform calculations on these documents, which is an expensive operation.\n",
        "\n",
        "  With larger graph queries, taking advantage of these optimizations results \n",
        "  in noticeable performance improvements.\n",
        "<br />\n",
        "\n",
        "#  That's Nice But..  \n",
        "\n",
        "You might be thinking, that's nice but how can I actually make use of this in my queries? That is a fair question and we will continue exploring indexes as well as building graph queries that utilize optimization rules and concepts.\n",
        "\n",
        "To highlight what this means, the following sections will cover these topics:\n",
        "*   Index Utilization\n",
        "*   Choosing a start vertex\n",
        "*   `PRUNE` vs `FILTER`\n",
        "\n",
        "We have already started the conversation on indexes in graph traversals and it will be a topic important for every query. The goal of the following example is to find all the movies directed by James Cameron and then list the associated actors for those movies. This example is a bit more complex as we start nesting `FOR` loops. This example hopefully starts to show the benefits of some of the formatting guidelines such as, whitespace and capitalization. \n",
        "\n"
      ]
    },
    {
      "cell_type": "code",
      "metadata": {
        "id": "yZZ8t6d3BV-k",
        "colab_type": "code",
        "colab": {}
      },
      "source": [
        "directorName = \"James Cameron\"\n",
        "\n",
        "results = aql.execute(\n",
        "    \"\"\"\n",
        "WITH imdb_vertices\n",
        "FOR director IN imdb_vertices\n",
        "  FILTER director.name == @name\n",
        "  LIMIT 1\n",
        "  FOR movie, edge, path \n",
        "    IN 1..1\n",
        "    OUTBOUND director\n",
        "    GRAPH \"IMDB\"\n",
        "    FILTER path.edges[*].`$label` ALL == 'DIRECTED'\n",
        "    FOR vertex2, edge2, path2\n",
        "      IN 1..1\n",
        "      INBOUND movie\n",
        "      GRAPH \"IMDB\"\n",
        "      FILTER path2.edges[*].`$label` ALL == 'ACTS_IN'\n",
        "      RETURN path2\n",
        "      \"\"\",\n",
        "      bind_vars= {'name': directorName}\n",
        ")\n",
        "visualize(results, size='13')"
      ],
      "execution_count": 0,
      "outputs": []
    },
    {
      "cell_type": "markdown",
      "metadata": {
        "id": "XrFASVDygAsT",
        "colab_type": "text"
      },
      "source": [
        "## Start Vertex\n",
        "In AQL it is required that you choose a start vertex as a place where your traversal will actually start. The choice of your start vertex can have a big impact on the performance of your queries. \n",
        "\n",
        "The rule for your start vertex is that **specificity is king**. \n",
        "There are a number of ways I could have attempted to achieve similar results for this query. The query could have instead started with an actor (perhaps the least specific option) or a movie but instead, it starts with the director. This is of course logical, considering we are only wanting the actors and movies that this director was involved with. It is also a good idea to start with the actual director as this allows us to search on the edges for the `DIRECTED` label, which can be covered by an index with `_from` and `$label`. \n",
        "\n",
        "Some questions to ask before a query like this are:\n",
        "*   What exactly is the intended result of the query?\n",
        "*   How is our data modeled?\n",
        "*   What is the specificity of our start vertex?\n",
        "\n",
        "This dataset doesn’t contain any ‘super nodes’, nodes with a very large number of inbound and outbound edges, but that is something to keep in mind. \n",
        "\n",
        "***You never want to use a super node as a start vertex.***\n",
        "\n",
        "If you start at a vertex that has a very high number of connecting edges, your traversal will need to travel down each path and this can result in long running queries. Try to start at the most relevant place possible, such as a single director, and then filter down from there.\n",
        "\n",
        "## Matching Documents\n",
        "For this example we start with Keanu Reeves and then look at the movies he has acted in and then the movies his co-stars have acted, all with the action genre type. If you are going to watch action movies, you might as well watch Keanu Reeves or at least the friends of Keanu Reeves.\n"
      ]
    },
    {
      "cell_type": "code",
      "metadata": {
        "id": "bCk3UfkFMYMW",
        "colab_type": "code",
        "colab": {}
      },
      "source": [
        "cursor = aql.execute(\n",
        "    \"\"\"\n",
        "    WITH imdb_vertices\n",
        "    FOR actor IN imdb_vertices\n",
        "      FILTER actor.name == 'Keanu Reeves'\n",
        "      FOR v,e,p\n",
        "        IN 1..3\n",
        "        ANY actor\n",
        "        GRAPH \"IMDB\"\n",
        "        PRUNE p.vertices[*].genre ALL == \"Action\"\n",
        "        FILTER v.genre == \"Action\"\n",
        "        FILTER p.vertices[*]._key ALL != \"action\"\n",
        "        LIMIT 100\n",
        "        RETURN p \n",
        "    \"\"\"\n",
        ")\n",
        "\n",
        "visualize(cursor, size='12')"
      ],
      "execution_count": 0,
      "outputs": []
    },
    {
      "cell_type": "markdown",
      "metadata": {
        "id": "sKfxOpGaTB3g",
        "colab_type": "text"
      },
      "source": [
        "Two common ways of matching documents in a graph traversal are:\n",
        "*   [PRUNE](https://www.arangodb.com/docs/stable/aql/graphs-traversals.html#pruning)\n",
        "*   [FILTER](https://www.arangodb.com/docs/stable/aql/operations-filter.html)\n",
        "\n",
        "It is easy to think that perhaps `PRUNE` might be used in place of `FILTER` or vice-versa. However, rather than making a decision on which one to use, these two keywords instead make a powerful team. In the example below we use `PRUNE` as a way to quickly stop traversing along a path if that path doesn’t contain all genre types of ‘Action’. \n",
        "\n",
        "This `PRUNE` is combined with a vertex that makes sure the final vertex is also of genre type ‘Action’. The final `FILTER` is due to the fact that this dataset contains a genre document that can potentially link unrelated films and actors. \n",
        "\n",
        "\n",
        "This query let us find very specific and fine tuned results. However, it is this sort of search criteria that can make following a specific guideline or rule for query performance difficult. These examples along with the formatting guidelines can serve as a base for improving the way you think about formatting your graph queries and your overall query performance. "
      ]
    }
  ]
}
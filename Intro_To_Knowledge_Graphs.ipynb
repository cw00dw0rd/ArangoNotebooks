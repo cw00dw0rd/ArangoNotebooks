{
  "nbformat": 4,
  "nbformat_minor": 0,
  "metadata": {
    "colab": {
      "name": "Intro_To_Knowledge_Graphs.ipynb",
      "provenance": [],
      "collapsed_sections": [],
      "authorship_tag": "ABX9TyOByMEiUQdQAHFKHi07FfX3",
      "include_colab_link": true
    },
    "kernelspec": {
      "name": "python3",
      "display_name": "Python 3"
    }
  },
  "cells": [
    {
      "cell_type": "markdown",
      "metadata": {
        "id": "view-in-github",
        "colab_type": "text"
      },
      "source": [
        "<a href=\"https://colab.research.google.com/github/cw00dw0rd/ArangoNotebooks/blob/master/Intro_To_Knowledge_Graphs.ipynb\" target=\"_parent\"><img src=\"https://colab.research.google.com/assets/colab-badge.svg\" alt=\"Open In Colab\"/></a>"
      ]
    },
    {
      "cell_type": "markdown",
      "metadata": {
        "id": "8vdhzqNlUowg",
        "colab_type": "text"
      },
      "source": [
        "This notebook will:\n",
        "- Further illustrate the RDF data model\n",
        "- Show how to interpolate from an RDF triple to property graph\n",
        "- Highlight potential challenges when importing\n",
        "\n",
        "The first few code blocks are some basic setup, including:\n",
        "- Importing needed libraries\n",
        "- Initializing a temporary ArangoDB Oasis instance\n",
        "- Loading some sample data \n",
        "\n",
        "TODO Intro to DBpedia\n",
        "\n",
        "If you are running the notebook on your own, run the next few code blocks until you get to the ***STOP HERE*** text block."
      ]
    },
    {
      "cell_type": "code",
      "metadata": {
        "id": "p8Hl_9vIUWFD",
        "colab_type": "code",
        "colab": {}
      },
      "source": [
        "%%capture\n",
        "!git clone https://github.com/joerg84/ArangoDBUniversity.git\n",
        "!rsync -av ArangoDBUniversity/ ./ --exclude=.git\n",
        "!pip3 install pyarango\n",
        "!pip3 install \"python-arango>=5.0\""
      ],
      "execution_count": 4,
      "outputs": []
    },
    {
      "cell_type": "code",
      "metadata": {
        "id": "OraJh0BDUf2d",
        "colab_type": "code",
        "colab": {}
      },
      "source": [
        "import json\n",
        "import requests\n",
        "import sys\n",
        "import oasis\n",
        "import time\n",
        "import textwrap\n",
        "\n",
        "from pyArango.connection import *\n",
        "from arango import ArangoClient"
      ],
      "execution_count": 5,
      "outputs": []
    },
    {
      "cell_type": "markdown",
      "metadata": {
        "id": "qEoILf_pUsnD",
        "colab_type": "text"
      },
      "source": [
        "Create the temporary database:"
      ]
    },
    {
      "cell_type": "code",
      "metadata": {
        "id": "sbw7XoCdUg8J",
        "colab_type": "code",
        "colab": {
          "base_uri": "https://localhost:8080/",
          "height": 51
        },
        "outputId": "01e9ccb3-6317-478a-8444-f151111a6c84"
      },
      "source": [
        "# Retrieve tmp credentials from ArangoDB Tutorial Service\n",
        "login = oasis.getTempCredentials(tutorialName=\"Intro-Knowledge-Graph\", credentialProvider=\"https://tutorials.arangodb.cloud:8529/_db/_system/tutorialDB/tutorialDB\")\n",
        "\n",
        "# Connect to the temp database\n",
        "# Please note that we use the python-arango driver as it has better support for ArangoSearch \n",
        "database = oasis.connect_python_arango(login)"
      ],
      "execution_count": 6,
      "outputs": [
        {
          "output_type": "stream",
          "text": [
            "Requesting new temp credentials.\n",
            "Temp database ready to use.\n"
          ],
          "name": "stdout"
        }
      ]
    },
    {
      "cell_type": "code",
      "metadata": {
        "id": "mXHl9ciUUiFC",
        "colab_type": "code",
        "colab": {
          "base_uri": "https://localhost:8080/",
          "height": 85
        },
        "outputId": "793f3274-9fad-4e2b-af5b-8aa3e19df1c7"
      },
      "source": [
        "print(\"https://\"+login[\"hostname\"]+\":\"+str(login[\"port\"]))\n",
        "print(\"Username: \" + login[\"username\"])\n",
        "print(\"Password: \" + login[\"password\"])\n",
        "print(\"Database: \" + login[\"dbName\"])"
      ],
      "execution_count": 7,
      "outputs": [
        {
          "output_type": "stream",
          "text": [
            "https://tutorials.arangodb.cloud:8529\n",
            "Username: TUT302qvexbj8kximy60pkx8q\n",
            "Password: TUTxbnvstv401s3filas9z9\n",
            "Database: TUTdwdf04fgmoh262z5sjqgj5\n"
          ],
          "name": "stdout"
        }
      ]
    },
    {
      "cell_type": "markdown",
      "metadata": {
        "id": "t5qXTIweU2FR",
        "colab_type": "text"
      },
      "source": [
        "Feel free to use the above URL to checkout the ArangoDB WebUI!"
      ]
    },
    {
      "cell_type": "code",
      "metadata": {
        "id": "FefLEFDHbPT3",
        "colab_type": "code",
        "colab": {
          "base_uri": "https://localhost:8080/",
          "height": 35
        },
        "outputId": "23d75cda-f7ca-4c7c-c287-e0f948bb27c5"
      },
      "source": [
        "import re\n",
        "f = open(\"test.nt\")\n",
        "f.readline()"
      ],
      "execution_count": null,
      "outputs": [
        {
          "output_type": "execute_result",
          "data": {
            "application/vnd.google.colaboratory.intrinsic+json": {
              "type": "string"
            },
            "text/plain": [
              "'<http://dbpedia.org/resource/Arthur_Conan_Doyle> <http://www.w3.org/1999/02/22-rdf-syntax-ns#type> <http://www.w3.org/2002/07/owl#Thing> .\\n'"
            ]
          },
          "metadata": {
            "tags": []
          },
          "execution_count": 3
        }
      ]
    },
    {
      "cell_type": "markdown",
      "metadata": {
        "id": "Fea62RlLwH9D",
        "colab_type": "text"
      },
      "source": [
        "## STOP HERE"
      ]
    },
    {
      "cell_type": "markdown",
      "metadata": {
        "id": "3ED5pIz9wMVu",
        "colab_type": "text"
      },
      "source": [
        "## Subject Predicate Object\n",
        "\n",
        "Now that we have some of the basic setup completed let's dive into it.\n",
        "\n",
        "The portion that still needs covered has to do with the format of RDF files. As briefly mentioned in the article associated with this notebook, the RDF specification stores data as triples using the Subject, Predicate, Object (SPO) format.\n",
        "\n",
        "{{ S-P-O IMAGE }}\n",
        "\n",
        "This specification and formatting is what keeps the data unfirom and machine readable."
      ]
    },
    {
      "cell_type": "markdown",
      "metadata": {
        "id": "LFvNk4wyfUWH",
        "colab_type": "text"
      },
      "source": [
        "### Serializing\n",
        "\n",
        "Here is an example of RDF formatted data, serialized as triples. This is from the attached `doyle.nt` file. \n",
        "```\n",
        "<http://dbpedia.org/resource/Arthur_Conan_Doyle> <http://www.w3.org/1999/02/22-rdf-syntax-ns#type> <http://www.w3.org/2002/07/owl#Thing> .\n",
        "<http://dbpedia.org/resource/Arthur_Conan_Doyle> <http://www.w3.org/1999/02/22-rdf-syntax-ns#type> <http://dbpedia.org/ontology/Person> .\n",
        "<http://dbpedia.org/resource/Arthur_Conan_Doyle> <http://www.w3.org/1999/02/22-rdf-syntax-ns#type> <http://dbpedia.org/ontology/Artist> .\n",
        "<http://dbpedia.org/resource/Arthur_Conan_Doyle> <http://www.w3.org/1999/02/22-rdf-syntax-ns#type> <http://dbpedia.org/ontology/Writer> .\n",
        "```\n",
        "\n",
        "\n",
        "The `nt` format stands for [N-Triples](https://www.w3.org/TR/n-triples/) and is one of many methods for serializing RDF data. Some common formats for RDF data include:\n",
        "- XML\n",
        "- Turtle (ttl)\n",
        "- N-triples (nt)\n",
        "- N-quads (nq)\n",
        "- JSON\n",
        "\n",
        "We are using `nt` as it is a format supplied directly from DBpedia. \n",
        "\n",
        "This is actually a list of 4 triples with the Subject of Arthur Conan Doyle. Let's examine just the first triple from the list to understand what is going on.\n",
        "```\n",
        "<http://dbpedia.org/resource/Arthur_Conan_Doyle> <http://www.w3.org/1999/02/22-rdf-syntax-ns#type> <http://www.w3.org/2002/07/owl#Thing> .\n",
        "```\n",
        "Here we can see that the triple consists of three different links, when dealing with linked data these links are referred to as URIs instead of URLs. The difference between the two is that:\n",
        "- URIs identity resources\n",
        "- URLs identify resources AND the protocol to access them\n",
        "- All URLs are URIs with additional access information\n",
        "- Not all URIs are URLs\n",
        "\n",
        "Everything we deal with in this example also happens to be a URL. For instance, try navigating to the first URL from the triple `http://dbpedia.org/resource/Arthur_Conan_Doyle`. You should be brought a page similar to the Wikipedia page with information about Arthur Conan Doyle. You will almost always see the identifiers referred to as URIs even when, such as with this example, they could also be referred to as URLs.\n",
        "\n",
        "\n"
      ]
    },
    {
      "cell_type": "markdown",
      "metadata": {
        "id": "QGKB20AgDezb",
        "colab_type": "text"
      },
      "source": [
        "### Subject\n",
        "\n",
        "The first link supplied is the **Subject** of the triple. Upon inspecting the first link further we can see it is a dbpedia.org resource for Arthur Conan Doyle. A resource is what an RDF expression is describing. This resource can be any number of things, not just web pages. This distinction is why it is important to know that the resource links won't always have associated web pages. Here is a snippit from the [W3 definition](https://www.w3.org/TR/PR-rdf-syntax/) of an RDF resource:\n",
        "\n",
        "*..A resource may be a part of a Web page; e.g. a specific HTML or XML element within the document source. A resource may also be a whole collection of pages; e.g. an entire Web site. A resource may also be an object that is not directly accessible via the Web; e.g. a printed book...*\n",
        "\n",
        "### Predicate\n",
        "The next URI supplied is `http://www.w3.org/1999/02/22-rdf-syntax-ns#type` and this is the predicate of the expression. This predicate is what is actually describing the resource. This predicate refers to the W3 rdf syntax definition of type, indicated with the `#type` at the end of the URI. If you were to navigate to this links (since it is also a URL) you will see an XML page that contains definitions for various properties. \n",
        "Here is the definition for type as defined by W3:\n",
        "```\n",
        "rdf:type a rdf:Property ;\n",
        "\trdfs:isDefinedBy <http://www.w3.org/1999/02/22-rdf-syntax-ns#> ;\n",
        "\trdfs:label \"type\" ;\n",
        "\trdfs:comment \"The subject is an instance of a class.\" ;\n",
        "\trdfs:range rdfs:Class ;\n",
        "\trdfs:domain rdfs:Resource .\n",
        "```\n",
        "  Don't worry too much about everything that is going on this page, the important thing to take away is that this URI is referring to a pre-defined descriptor. This page is essentially the glossary for RDF-specific vocabulary. The RDF XML schema will be covered in more detail (later/in another course?).\n",
        "\n",
        "### Object\n",
        "The final URI in this expression is the object `<http://www.w3.org/2002/07/owl#Thing>`. This provides the last piece of information to complete the RDF statement. Navigating to this link takes us to another list of vocabulary terms used in the w3.org ontology. \n",
        "\n",
        "As defined on that same page:\n",
        "\n",
        "*This ontology partially describes the built-in classes and properties that together form the basis of the RDF/XML syntax of OWL 2...*\n",
        "\n",
        "The supplied RDF/XML definition for the `Thing` class is:\n",
        "\n",
        "```\n",
        "owl:Thing a owl:Class ;\n",
        "     rdfs:label \"Thing\" ;\n",
        "     rdfs:comment \"The class of OWL individuals.\" ;\n",
        "     rdfs:isDefinedBy <http://www.w3.org/2002/07/owl#> .\n",
        "```\n",
        "This tells us that the `Thing` is just a base class of OWL individuals.\n",
        "\n",
        "\n",
        "So as a quick recap with these URIs we know that: \n",
        "- The subject of the RDF expression is `Arthur Conan Doyle`\n",
        "- Who has a property of `type` \n",
        "- The `type` property is part of a pre-defined w3.org vocabulary\n",
        "- He is a `type` of `Thing`, which is also pre-defined\n",
        "\n",
        "This small amount of information isn't immediately useful to humans as we are aware that a person is a thing but defining even the most basic ideas such as what a `Thing` is, is what makes up the semantic web. Having class definitions for the most minute things is necessary. This allows the data to be read and understood by machines, which are not aware of what a `Thing` is until we explicitly define it. \n",
        "\n",
        "Defining these ontologies and schemas is what allows for knowledge graphs to combine data from multiple sources. For example, if we take a look at the next statement:\n",
        "\n",
        "```\n",
        "<http://dbpedia.org/resource/Arthur_Conan_Doyle> <http://www.w3.org/1999/02/22-rdf-syntax-ns#type> <http://dbpedia.org/ontology/Person> .\n",
        "```\n",
        "\n",
        "The Subject and Predicate are the same but the Object has changed. This object actually links to the DBpedia ontology definition for a `Person`. The `Person` class has multiple different associated properties that define what a person is and now we know all the attributes of every `Person` defined in the entire DBpedia knowledge graph.\n",
        "\n"
      ]
    },
    {
      "cell_type": "markdown",
      "metadata": {
        "id": "wlAHjBvgWtbt",
        "colab_type": "text"
      },
      "source": [
        "These types of defined classes allow for querying for things such as:\n",
        "- Lists of Writers\n",
        "- Lists of Artists\n",
        "- Lists of Artists who are also Writers\n",
        "- Lists of Writers who are also Writers, who were born in Scotland\n",
        "\n",
        "### End Statement\n",
        "The final note is that with N-triples you end the statement with a `.`, there are also other symbols you can use for differnet formatting options [detailed here](https://www.w3.org/TR/n-triples/).\n",
        "\n",
        "## Importing to ArangoDB\n",
        "These statements for Arthur Conana Doyle can already be represented as a property graph but deciding on how to approach that comes with many considerations. \n",
        "\n",
        "In this section we will:\n",
        "- Import the triples to the temporary Oasis database\n",
        "- Look at possible complications depending on serialization format\n",
        "\n"
      ]
    },
    {
      "cell_type": "markdown",
      "metadata": {
        "id": "ZwtpGC_cKtXa",
        "colab_type": "text"
      },
      "source": [
        "The first hurdle is formatting the statements into separate documents that can be linked to each other as a property graph. \n",
        "\n",
        "Rather than view this as a single statement we would like to have these be associated nodes describing Arthur Conan Doyle. Doing this is typically a multi-part process"
      ]
    },
    {
      "cell_type": "code",
      "metadata": {
        "id": "ZY4_OCxhKszQ",
        "colab_type": "code",
        "colab": {
          "base_uri": "https://localhost:8080/",
          "height": 54
        },
        "outputId": "60e1dee8-b843-410c-a584-2947a9fc3ebf"
      },
      "source": [
        "statements = \"<http://dbpedia.org/resource/Arthur_Conan_Doyle> <http://www.w3.org/1999/02/22-rdf-syntax-ns#type> <http://www.w3.org/2002/07/owl#Thing> . <http://dbpedia.org/resource/Arthur_Conan_Doyle> <http://www.w3.org/1999/02/22-rdf-syntax-ns#type> <http://dbpedia.org/ontology/Person> . <http://dbpedia.org/resource/Arthur_Conan_Doyle> <http://www.w3.org/1999/02/22-rdf-syntax-ns#type> <http://dbpedia.org/ontology/Artist> . <http://dbpedia.org/resource/Arthur_Conan_Doyle> <http://www.w3.org/1999/02/22-rdf-syntax-ns#type> <http://dbpedia.org/ontology/Writer> .\"\n",
        "print(statements)"
      ],
      "execution_count": 9,
      "outputs": [
        {
          "output_type": "stream",
          "text": [
            "<http://dbpedia.org/resource/Arthur_Conan_Doyle> <http://www.w3.org/1999/02/22-rdf-syntax-ns#type> <http://www.w3.org/2002/07/owl#Thing> . <http://dbpedia.org/resource/Arthur_Conan_Doyle> <http://www.w3.org/1999/02/22-rdf-syntax-ns#type> <http://dbpedia.org/ontology/Person> . <http://dbpedia.org/resource/Arthur_Conan_Doyle> <http://www.w3.org/1999/02/22-rdf-syntax-ns#type> <http://dbpedia.org/ontology/Artist> . <http://dbpedia.org/resource/Arthur_Conan_Doyle> <http://www.w3.org/1999/02/22-rdf-syntax-ns#type> <http://dbpedia.org/ontology/Writer> .\n"
          ],
          "name": "stdout"
        }
      ]
    }
  ]
}
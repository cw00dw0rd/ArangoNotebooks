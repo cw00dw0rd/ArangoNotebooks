{
  "nbformat": 4,
  "nbformat_minor": 0,
  "metadata": {
    "colab": {
      "name": "ArangoSearch_3-7.ipynb",
      "provenance": [],
      "collapsed_sections": [],
      "toc_visible": true,
      "authorship_tag": "ABX9TyMpManlb+IQBU3T5suAD2+8",
      "include_colab_link": true
    },
    "kernelspec": {
      "name": "python3",
      "display_name": "Python 3"
    }
  },
  "cells": [
    {
      "cell_type": "markdown",
      "metadata": {
        "id": "view-in-github",
        "colab_type": "text"
      },
      "source": [
        "<a href=\"https://colab.research.google.com/github/cw00dw0rd/ArangoNotebooks/blob/master/ArangoSearch_3_7.ipynb\" target=\"_parent\"><img src=\"https://colab.research.google.com/assets/colab-badge.svg\" alt=\"Open In Colab\"/></a>"
      ]
    },
    {
      "cell_type": "code",
      "metadata": {
        "id": "eIQkJJGcADdt",
        "colab_type": "code",
        "colab": {}
      },
      "source": [
        "%%capture\n",
        "!git clone -b UpdateSearch --single-branch https://github.com/cw00dw0rd/ArangoNotebooks.git\n",
        "!rsync -av ArangoNotebooks/ ./ --exclude=.git\n",
        "!pip3 install pyarango\n",
        "!pip3 install \"python-arango>=5.0\"\n",
        "!pip3 install graphviz"
      ],
      "execution_count": 1,
      "outputs": []
    },
    {
      "cell_type": "code",
      "metadata": {
        "id": "118PgeTsAEnq",
        "colab_type": "code",
        "colab": {},
        "cellView": "both"
      },
      "source": [
        "import json\n",
        "import requests\n",
        "import sys\n",
        "import oasis\n",
        "import time\n",
        "\n",
        "from pyArango.connection import *\n",
        "from arango import ArangoClient"
      ],
      "execution_count": 2,
      "outputs": []
    },
    {
      "cell_type": "code",
      "metadata": {
        "id": "x7KfTZ08AF7-",
        "colab_type": "code",
        "colab": {
          "base_uri": "https://localhost:8080/",
          "height": 68
        },
        "outputId": "5bb5874b-ed9e-4297-d354-ce20ae5226a5"
      },
      "source": [
        "%tb\n",
        "# Retrieve tmp credentials from ArangoDB Tutorial Service\n",
        "login = oasis.getTempCredentials(tutorialName=\"ArangoSearch_3-7 Overview\", tempURL='https://tutorials.arangodb.cloud:8529/_db/_system/tutorialDB/tutorialDB')\n",
        "# Connect to the temp database\n",
        "# Please note that we use the python-arango driver as it has better support for ArangoSearch \n",
        "database = oasis.connect_python_arango(login)"
      ],
      "execution_count": 3,
      "outputs": [
        {
          "output_type": "stream",
          "text": [
            "No traceback available to show.\n"
          ],
          "name": "stderr"
        },
        {
          "output_type": "stream",
          "text": [
            "Requesting new temp credentials.\n",
            "Temp database ready to use.\n"
          ],
          "name": "stdout"
        }
      ]
    },
    {
      "cell_type": "code",
      "metadata": {
        "id": "GjoiP9H2AIPg",
        "colab_type": "code",
        "colab": {
          "base_uri": "https://localhost:8080/",
          "height": 85
        },
        "outputId": "91182619-e0b4-4d8d-8c6d-a929fd1454ae"
      },
      "source": [
        "print(\"https://\"+login[\"hostname\"]+\":\"+str(login[\"port\"]))\n",
        "print(\"Username: \" + login[\"username\"])\n",
        "print(\"Password: \" + login[\"password\"])\n",
        "print(\"Database: \" + login[\"dbName\"])"
      ],
      "execution_count": 4,
      "outputs": [
        {
          "output_type": "stream",
          "text": [
            "https://tutorials.arangodb.cloud:8529\n",
            "Username: TUTzjxbgtl9ryi2axzjv7h2i6\n",
            "Password: TUTcgkg0wop4sb3k3d3nqqia4\n",
            "Database: TUTav2cg67kudja67k54dac\n"
          ],
          "name": "stdout"
        }
      ]
    },
    {
      "cell_type": "code",
      "metadata": {
        "id": "RlH6NSXaB3yS",
        "colab_type": "code",
        "colab": {}
      },
      "source": [
        "%%capture\n",
        "!chmod 755 ./tools/arangorestore\n",
        "\n",
        "restore = !./tools/arangorestore -c none --server.endpoint http+ssl://{login[\"hostname\"]}:{login[\"port\"]} --server.username {login[\"username\"]} --server.database {login[\"dbName\"]} --server.password {login[\"password\"]} --default-replication-factor 3  --input-directory \"./data\" "
      ],
      "execution_count": 5,
      "outputs": []
    },
    {
      "cell_type": "code",
      "metadata": {
        "id": "piDAapCPVj2Q",
        "colab_type": "code",
        "colab": {
          "base_uri": "https://localhost:8080/",
          "height": 34
        },
        "outputId": "080bcee0-cab0-4490-c3cb-fa01c2cd6031"
      },
      "source": [
        "response = str(restore).split(\" \")\n",
        "try: \n",
        "  for token in response:\n",
        "    if token == \"ERROR\":\n",
        "      raise Exception\n",
        "except:\n",
        "      print(\"ERROR\")\n",
        "      print(restore)\n",
        "      raise\n",
        "\n",
        "print(\"restored successfully\")\n"
      ],
      "execution_count": 6,
      "outputs": [
        {
          "output_type": "stream",
          "text": [
            "restored successfully\n"
          ],
          "name": "stdout"
        }
      ]
    },
    {
      "cell_type": "code",
      "metadata": {
        "id": "EH5JaAMbSg-7",
        "colab_type": "code",
        "colab": {},
        "cellView": "form"
      },
      "source": [
        "#@title Query Formatting Functions Hidden Here \n",
        "import itertools\n",
        "from types import *\n",
        "import pprint\n",
        "pp = pprint.PrettyPrinter(indent=4)\n",
        "\n",
        "aql = database.aql\n",
        "\n",
        "def getQueryStatistics(query):\n",
        "  # Execute the query\n",
        "  with_stored_values = aql.execute(query,profile = True)\n",
        "  with_stored_explain = aql.explain(query, all_plans = False, max_plans=1)\n",
        "  return with_stored_values, with_stored_explain\n",
        "\n",
        "def printQueryProfile(header1, query1, header2, query2):\n",
        "  print(header1.ljust(62, ' '), header2)\n",
        "  print(\"-\" * 120)\n",
        "  \n",
        "  for rule, value in itertools.zip_longest(query1, query2):\n",
        "     r = str(rule).ljust(20, ' ')\n",
        "     if rule in query1:\n",
        "       if value is not None:\n",
        "         if rule == 'viewValuesVars' or rule == 'condition' or rule == 'scorers':\n",
        "           s1 = str(rule).ljust(30, ' ')\n",
        "         elif isinstance(query1[rule], list) or isinstance(query1[rule], dict):\n",
        "           s1 = \" \".ljust(30, ' ')\n",
        "           for item in query1[rule]:\n",
        "             s1 = s1 + (str(item).ljust(30, ' ')) + \"\\n\"\n",
        "            \n",
        "         else:\n",
        "           s1 = str(query1[rule]).ljust(30, ' ')\n",
        "     else: \n",
        "       s1 = \" \".ljust(30, ' ')\n",
        "\n",
        "     if rule in query2:\n",
        "       if value is not None:\n",
        "         if rule == 'viewValuesVars' or rule == 'condition' or rule == 'scorers':\n",
        "           n1 = str(rule).ljust(30, ' ')\n",
        "         elif isinstance(query1[rule], list) or isinstance(query1[rule], dict):\n",
        "           n1 = \"\".ljust(30, ' ')\n",
        "           for item in query1[rule]:\n",
        "             n1 = n1 + (str(item).ljust(30, ' ')) + \"\\n\"\n",
        "         else:\n",
        "           n1 = str(query2[rule]).ljust(30, ' ')\n",
        "     else:\n",
        "       n1 = ' '.ljust(30, ' ')\n",
        "     print(r, s1, \"|\".ljust(10, ' '),r, n1)    "
      ],
      "execution_count": 7,
      "outputs": []
    },
    {
      "cell_type": "markdown",
      "metadata": {
        "id": "Q_0M-6zw-Dbn",
        "colab_type": "text"
      },
      "source": [
        "# ArangoSearch Improvements in ArangoDB 3.7\n",
        "\n",
        "***Disclaimer: These functionalities are currently available only in the Beta release of the upcoming ArangoDB 3.7. You can download the Beta preview here.***\n",
        "\n",
        "ArangoDB 3.7 will come with many new features and improvement for ArangoDB’s integrated search and ranking engine ArangoSearch.\n",
        "\n",
        "This tutorial will detail those features with examples available via an interactive Colab notebook.\n",
        "\n",
        "The new features include:\n",
        "\n",
        "Fuzzy filter support\n",
        "Stored Values in ArangoSearch Views\n",
        "A new LIKE operator\n",
        "Enhanced PHRASE functionality\n",
        "\n",
        "To make it more fun, we will use the IMDB dataset with data about movies like title and description of a movie."
      ]
    },
    {
      "cell_type": "markdown",
      "metadata": {
        "id": "7NZSJKKp-WFa",
        "colab_type": "text"
      },
      "source": [
        "# Stored Values in ArangoSearch Views\n",
        "\n",
        "Typically, when performing queries, you `FILTER` on some criteria to locate a document and then either return that entire document or a few of its attributes. This process can be quite fast in ArangoDB but with the help of ArangoSearch Views it is now faster. With the introduction of the ability to store values in ArangoSearch Views you are able to store fields of documents in views. This avoids the need to load the entire document into memory from the storage engine, inspect the entire document, and then return the requested attributes. Instead you only return the specific attributes requested, directly from the view, without needing to access the storage engine. In order to add stored values to a view you can assign the values you would like to store to the `storedValues` attribute in the view properties, like so:\n",
        "\n",
        "```\n",
        "db._createView(\"imdb_with_stored_values\", \"arangosearch\", { storedValues: [ \"title\" ] })\n",
        "```\n",
        "\n",
        "So, running the following query against our IMDB dataset returns results that:\n",
        "\n",
        "1. Perform faster than a view without stored values\n",
        "2. Applies late document materialization, thanks to the sort+limit combination\n",
        "\n",
        "``` \n",
        "FOR d IN imdb_with_stored_values\n",
        "SEARCH d.type == 'Movie'\n",
        "SORT bm25(d), d.title\n",
        "LIMIT 100\n",
        "RETURN d.title\n",
        "```\n",
        "\n",
        "This is a trivial example as we are just retrieving all of the Movies (not actors) in the dataset and sorting based on the score and movie title. However, even with this simple example, execution time can be multiple times faster than without stored values. Running the following cell block shows a comparison of the rules and exection stats for when you use and don't use stored values.\n",
        "\n",
        "This process of storing values now happens implicitly when setting a primarySort, as well. The benefit of storing groups of values comes in the form of further performance gains. The query optimizer will prefer the stored group of values over single stored values, if it can cover the query more completely. For further information on this feature please refer to the documentation for everything that comes with stored values."
      ]
    },
    {
      "cell_type": "code",
      "metadata": {
        "id": "ptb7Tv7fMi0D",
        "colab_type": "code",
        "colab": {
          "base_uri": "https://localhost:8080/",
          "height": 1000
        },
        "outputId": "b40191a9-39b3-4548-8b1f-8edbe216e2b8"
      },
      "source": [
        "import itertools\n",
        "\n",
        "aql = database.aql\n",
        "\n",
        "# Execute the query\n",
        "with_stored_values = getQueryStatistics(\n",
        "\"\"\"\n",
        "FOR d IN imdb_with_stored_values \n",
        "  SEARCH d.type == 'Movie' \n",
        "  SORT bm25(d), d.title \n",
        "  LIMIT 5000 \n",
        "  RETURN d.title\n",
        "\"\"\")\n",
        "\n",
        "no_stored_values = getQueryStatistics(\n",
        "\"\"\"\n",
        "FOR d IN imdb_no_stored_values \n",
        "  SEARCH d.type == 'Movie' \n",
        "  SORT bm25(d), d.title \n",
        "  LIMIT 5000 \n",
        "  RETURN d.title\n",
        "\"\"\")\n",
        "nodes = with_stored_values[1]['nodes']\n",
        "printQueryProfile(\"With Stored Values\", with_stored_values[0].profile(), \"No Stored Values\", no_stored_values[0].profile())\n",
        "\n",
        "for i in itertools.zip_longest(with_stored_values[1]['nodes'], no_stored_values[1]['nodes'], fillvalue={'rule': 'Not Needed'}):\n",
        "  printQueryProfile(\"With Stored Values\", i[0], \"No Stored Values\", i[1])"
      ],
      "execution_count": 8,
      "outputs": [
        {
          "output_type": "stream",
          "text": [
            "With Stored Values                                             No Stored Values\n",
            "------------------------------------------------------------------------------------------------------------------------\n",
            "initializing         3.8868747651577e-06            |          initializing         3.02889384329319e-06          \n",
            "parsing              0.00011293101124465466         |          parsing              9.075016714632511e-05         \n",
            "optimizing ast       9.234994649887085e-06          |          optimizing ast       8.609844371676445e-06         \n",
            "loading collections  5.170004442334175e-06          |          loading collections  5.063135176897049e-06         \n",
            "instantiating plan   5.869404412806034e-05          |          instantiating plan   3.548501990735531e-05         \n",
            "optimizing plan      0.04023073799908161            |          optimizing plan      0.0015453689265996218         \n",
            "executing            0.116419947007671              |          executing            0.08724166406318545           \n",
            "finalizing           0.002018457045778632           |          finalizing           0.0015360950492322445         \n",
            "With Stored Values                                             No Stored Values\n",
            "------------------------------------------------------------------------------------------------------------------------\n",
            "type                 SingletonNode                  |          type                 SingletonNode                 \n",
            "dependencies                                        |          dependencies                                       \n",
            "id                   1                              |          id                   1                             \n",
            "estimatedCost        1                              |          estimatedCost        1                             \n",
            "estimatedNrItems     1                              |          estimatedNrItems     1                             \n",
            "With Stored Values                                             No Stored Values\n",
            "------------------------------------------------------------------------------------------------------------------------\n",
            "type                 EnumerateViewNode              |          type                 EnumerateViewNode             \n",
            "dependencies                                       1                             \n",
            " |          dependencies                                       1                             \n",
            "\n",
            "id                   2                              |          id                   2                             \n",
            "estimatedCost        2                              |          estimatedCost        2                             \n",
            "estimatedNrItems     1                              |          estimatedNrItems     1                             \n",
            "database             TUTav2cg67kudja67k54dac        |          database             TUTav2cg67kudja67k54dac       \n",
            "view                 imdb_with_stored_values        |          view                 imdb_no_stored_values         \n",
            "viewId               42002523                       |          viewId               42002546                      \n",
            "outVariable                                        id                            \n",
            "name                          \n",
            "isDataFromCollection          \n",
            " |          outVariable                                        id                            \n",
            "name                          \n",
            "isDataFromCollection          \n",
            "\n",
            "noMaterialization    True                           |          noMaterialization                                  \n",
            "viewValuesVars       viewValuesVars                 |          viewValuesVars       viewValuesVars                \n",
            "condition            condition                      |          condition            condition                     \n",
            "scorers              scorers                        |          scorers              scorers                       \n",
            "shards                                              |          shards                                             \n",
            "options                                            waitForSync                   \n",
            "conditionOptimization         \n",
            "collections                   \n",
            " |          options                                            waitForSync                   \n",
            "conditionOptimization         \n",
            "collections                   \n",
            "\n",
            "volatility                                         waitForSync                   \n",
            "conditionOptimization         \n",
            "collections                   \n",
            " |          volatility                                         waitForSync                   \n",
            "conditionOptimization         \n",
            "collections                   \n",
            "\n",
            "With Stored Values                                             No Stored Values\n",
            "------------------------------------------------------------------------------------------------------------------------\n",
            "type                 SortNode                       |          type                 CalculationNode               \n",
            "dependencies                                       2                             \n",
            " |          dependencies                                       2                             \n",
            "\n",
            "id                   5                              |          id                   4                             \n",
            "estimatedCost        3                              |          estimatedCost        3                             \n",
            "estimatedNrItems     1                              |          estimatedNrItems     1                             \n",
            "elements                                           {'inVariable': {'id': 8, 'name': '7', 'isDataFromCollection': False}, 'ascending': True}\n",
            "{'inVariable': {'id': 4, 'name': '3', 'isDataFromCollection': False}, 'ascending': True}\n",
            " |          elements                                           \n",
            "stable               False                          |          stable                                             \n",
            "limit                5000                           |          limit                                              \n",
            "strategy             constrained-heap               |          strategy                                           \n",
            "With Stored Values                                             No Stored Values\n",
            "------------------------------------------------------------------------------------------------------------------------\n",
            "type                 LimitNode                      |          type                 SortNode                      \n",
            "dependencies                                       5                             \n",
            " |          dependencies                                       5                             \n",
            "\n",
            "id                   6                              |          id                   5                             \n",
            "estimatedCost        4                              |          estimatedCost        4                             \n",
            "estimatedNrItems     1                              |          estimatedNrItems     1                             \n",
            "offset               0                              |          offset                                             \n",
            "limit                5000                           |          limit                5000                          \n",
            "fullCount            False                          |          fullCount                                          \n",
            "None                                                |          None                                               \n",
            "With Stored Values                                             No Stored Values\n",
            "------------------------------------------------------------------------------------------------------------------------\n",
            "type                 RemoteNode                     |          type                 LimitNode                     \n",
            "dependencies                                       6                             \n",
            " |          dependencies                                       6                             \n",
            "\n",
            "id                   9                              |          id                   6                             \n",
            "estimatedCost        5                              |          estimatedCost        5                             \n",
            "estimatedNrItems     1                              |          estimatedNrItems     1                             \n",
            "distributeId                                        |          distributeId                                       \n",
            "isResponsibleForInitializeCursor True                           |          isResponsibleForInitializeCursor                               \n",
            "database             TUTav2cg67kudja67k54dac        |          database                                           \n",
            "server               TUTav2cg67kudja67k54dac        |          server                                             \n",
            "queryId              TUTav2cg67kudja67k54dac        |          queryId                                            \n",
            "api                  TUTav2cg67kudja67k54dac        |          api                                                \n",
            "With Stored Values                                             No Stored Values\n",
            "------------------------------------------------------------------------------------------------------------------------\n",
            "type                 GatherNode                     |          type                 RemoteNode                    \n",
            "dependencies                                       9                             \n",
            " |          dependencies                                       9                             \n",
            "\n",
            "id                   10                             |          id                   9                             \n",
            "estimatedCost        6                              |          estimatedCost        6                             \n",
            "estimatedNrItems     1                              |          estimatedNrItems     1                             \n",
            "parallelism          undefined                      |          parallelism                                        \n",
            "sortmode             unset                          |          sortmode                                           \n",
            "elements                                            |          elements                                           \n",
            "None                                                |          None                                               \n",
            "None                                                |          None                                               \n",
            "None                                                |          None                                               \n",
            "With Stored Values                                             No Stored Values\n",
            "------------------------------------------------------------------------------------------------------------------------\n",
            "type                 ReturnNode                     |          type                 GatherNode                    \n",
            "dependencies                                       10                            \n",
            " |          dependencies                                       10                            \n",
            "\n",
            "id                   8                              |          id                   10                            \n",
            "estimatedCost        7                              |          estimatedCost        7                             \n",
            "estimatedNrItems     1                              |          estimatedNrItems     1                             \n",
            "inVariable                                         id                            \n",
            "name                          \n",
            "isDataFromCollection          \n",
            " |          inVariable                                         \n",
            "count                True                           |          count                                              \n",
            "None                                                |          None                                               \n",
            "With Stored Values                                             No Stored Values\n",
            "------------------------------------------------------------------------------------------------------------------------\n",
            "rule                 Not Needed                     |          rule                                               \n",
            "None                                                |          None                                               \n",
            "None                                                |          None                                               \n",
            "None                                                |          None                                               \n",
            "None                                                |          None                                               \n",
            "None                                                |          None                                               \n",
            "None                                                |          None                                               \n"
          ],
          "name": "stdout"
        }
      ]
    }
  ]
}